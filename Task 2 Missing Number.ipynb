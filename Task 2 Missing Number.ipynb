{
 "cells": [
  {
   "cell_type": "code",
   "execution_count": 40,
   "id": "7051cc2f",
   "metadata": {
    "ExecuteTime": {
     "end_time": "2022-09-27T17:18:24.268097Z",
     "start_time": "2022-09-27T17:18:24.250527Z"
    }
   },
   "outputs": [],
   "source": [
    "import numpy as np\n",
    "from qiskit import *\n",
    "from qiskit.visualization import plot_histogram\n",
    "import random\n",
    "from qiskit.circuit.library.standard_gates import ZGate"
   ]
  },
  {
   "cell_type": "code",
   "execution_count": 12,
   "id": "006ec97a",
   "metadata": {
    "ExecuteTime": {
     "end_time": "2022-09-27T16:48:14.210341Z",
     "start_time": "2022-09-27T16:48:14.196568Z"
    }
   },
   "outputs": [],
   "source": [
    "def diffuser(nqubits):\n",
    "    qc = QuantumCircuit(nqubits)\n",
    "    # Apply transformation |s> -> |00..0> (H-gates)\n",
    "    for qubit in range(nqubits):\n",
    "        qc.h(qubit)\n",
    "    # Apply transformation |00..0> -> |11..1> (X-gates)\n",
    "    for qubit in range(nqubits):\n",
    "        qc.x(qubit)\n",
    "    # Do multi-controlled-Z gate\n",
    "    qc.h(nqubits-1)\n",
    "    qc.mct(list(range(nqubits-1)), nqubits-1)  # multi-controlled-toffoli\n",
    "    qc.h(nqubits-1)\n",
    "    # Apply transformation |11..1> -> |00..0>\n",
    "    for qubit in range(nqubits):\n",
    "        qc.x(qubit)\n",
    "    # Apply transformation |00..0> -> |s>\n",
    "    for qubit in range(nqubits):\n",
    "        qc.h(qubit)\n",
    "    # We will return the diffuser as a gate\n",
    "    U_s = qc.to_gate()\n",
    "    U_s.name = \"U$_s$\"\n",
    "    return U_s"
   ]
  },
  {
   "cell_type": "code",
   "execution_count": 41,
   "id": "0c4c0a2a",
   "metadata": {
    "ExecuteTime": {
     "end_time": "2022-09-27T17:19:51.850700Z",
     "start_time": "2022-09-27T17:19:51.843541Z"
    }
   },
   "outputs": [],
   "source": [
    "def get_oracle(input_vector, n_qubits):\n",
    "    \n",
    "    U = -1*np.eye(2**n_qubits)\n",
    "    \n",
    "    for num in input_vector:\n",
    "        U[num][num] = 1\n",
    "    \n",
    "    print(U.shape)\n",
    "    print(U)\n",
    "    qc = QuantumCircuit(n_qubits)\n",
    "    qc.unitary(U, range(n_qubits))\n",
    "    oracle = qc.to_gate()\n",
    "    oracle.name = \"U\"\n",
    "    return oracle"
   ]
  },
  {
   "cell_type": "code",
   "execution_count": 32,
   "id": "c268abfa",
   "metadata": {
    "ExecuteTime": {
     "end_time": "2022-09-27T16:56:04.448101Z",
     "start_time": "2022-09-27T16:56:04.428948Z"
    }
   },
   "outputs": [],
   "source": [
    "def missing_number(input_vector):\n",
    "    \n",
    "    n = len(input_vector)\n",
    "    n_qubits = int(np.ceil(np.log2(n)))\n",
    "    print(n, n_qubits, 2**n_qubits)\n",
    "    oracle = get_oracle(input_vector, n_qubits)\n",
    "    \n",
    "    qc = QuantumCircuit(n_qubits)\n",
    "    qc.h(range(n_qubits))\n",
    "    \n",
    "    num_iterations = int((np.pi/4)*np.sqrt(2**n_qubits))\n",
    "    print(num_iterations)\n",
    "    for i in range(num_iterations):\n",
    "        qc.append(oracle, range(n_qubits))\n",
    "        qc.append(diffuser(n_qubits), range(n_qubits))\n",
    "    qc.measure_all()\n",
    "    print(qc)\n",
    "    \n",
    "    aer_sim = Aer.get_backend('aer_simulator')\n",
    "    t_qc = transpile(qc, aer_sim)\n",
    "    qobj = assemble(t_qc)\n",
    "    results = aer_sim.run(qobj).result()\n",
    "    counts = results.get_counts()\n",
    "    return counts, "
   ]
  },
  {
   "cell_type": "code",
   "execution_count": 39,
   "id": "462f4ae8",
   "metadata": {
    "ExecuteTime": {
     "end_time": "2022-09-27T17:15:54.824552Z",
     "start_time": "2022-09-27T17:15:54.441598Z"
    }
   },
   "outputs": [
    {
     "name": "stdout",
     "output_type": "stream",
     "text": [
      "MISSING NUMBER 3 0b11\n",
      "15 4 16\n",
      "(16, 16)\n",
      "[[ 1. -0. -0. -0. -0. -0. -0. -0. -0. -0. -0. -0. -0. -0. -0. -0.]\n",
      " [-0.  1. -0. -0. -0. -0. -0. -0. -0. -0. -0. -0. -0. -0. -0. -0.]\n",
      " [-0. -0.  1. -0. -0. -0. -0. -0. -0. -0. -0. -0. -0. -0. -0. -0.]\n",
      " [-0. -0. -0. -1. -0. -0. -0. -0. -0. -0. -0. -0. -0. -0. -0. -0.]\n",
      " [-0. -0. -0. -0.  1. -0. -0. -0. -0. -0. -0. -0. -0. -0. -0. -0.]\n",
      " [-0. -0. -0. -0. -0.  1. -0. -0. -0. -0. -0. -0. -0. -0. -0. -0.]\n",
      " [-0. -0. -0. -0. -0. -0.  1. -0. -0. -0. -0. -0. -0. -0. -0. -0.]\n",
      " [-0. -0. -0. -0. -0. -0. -0.  1. -0. -0. -0. -0. -0. -0. -0. -0.]\n",
      " [-0. -0. -0. -0. -0. -0. -0. -0.  1. -0. -0. -0. -0. -0. -0. -0.]\n",
      " [-0. -0. -0. -0. -0. -0. -0. -0. -0.  1. -0. -0. -0. -0. -0. -0.]\n",
      " [-0. -0. -0. -0. -0. -0. -0. -0. -0. -0.  1. -0. -0. -0. -0. -0.]\n",
      " [-0. -0. -0. -0. -0. -0. -0. -0. -0. -0. -0.  1. -0. -0. -0. -0.]\n",
      " [-0. -0. -0. -0. -0. -0. -0. -0. -0. -0. -0. -0.  1. -0. -0. -0.]\n",
      " [-0. -0. -0. -0. -0. -0. -0. -0. -0. -0. -0. -0. -0.  1. -0. -0.]\n",
      " [-0. -0. -0. -0. -0. -0. -0. -0. -0. -0. -0. -0. -0. -0.  1. -0.]\n",
      " [-0. -0. -0. -0. -0. -0. -0. -0. -0. -0. -0. -0. -0. -0. -0.  1.]]\n",
      "3\n",
      "        ┌───┐┌────┐┌────────┐┌────┐┌────────┐┌────┐┌────────┐ ░ ┌─┐         \n",
      "   q_0: ┤ H ├┤0   ├┤0       ├┤0   ├┤0       ├┤0   ├┤0       ├─░─┤M├─────────\n",
      "        ├───┤│    ││        ││    ││        ││    ││        │ ░ └╥┘┌─┐      \n",
      "   q_1: ┤ H ├┤1   ├┤1       ├┤1   ├┤1       ├┤1   ├┤1       ├─░──╫─┤M├──────\n",
      "        ├───┤│  U ││  U$_s$ ││  U ││  U$_s$ ││  U ││  U$_s$ │ ░  ║ └╥┘┌─┐   \n",
      "   q_2: ┤ H ├┤2   ├┤2       ├┤2   ├┤2       ├┤2   ├┤2       ├─░──╫──╫─┤M├───\n",
      "        ├───┤│    ││        ││    ││        ││    ││        │ ░  ║  ║ └╥┘┌─┐\n",
      "   q_3: ┤ H ├┤3   ├┤3       ├┤3   ├┤3       ├┤3   ├┤3       ├─░──╫──╫──╫─┤M├\n",
      "        └───┘└────┘└────────┘└────┘└────────┘└────┘└────────┘ ░  ║  ║  ║ └╥┘\n",
      "meas: 4/═════════════════════════════════════════════════════════╩══╩══╩══╩═\n",
      "                                                                 0  1  2  3 \n"
     ]
    },
    {
     "data": {
      "image/png": "[encoded data removed]",
      "text/plain": [
       "<Figure size 700x500 with 1 Axes>"
      ]
     },
     "execution_count": 39,
     "metadata": {},
     "output_type": "execute_result"
    }
   ],
   "source": [
    "x = np.arange(0,16)\n",
    "random.shuffle(x)\n",
    "print(\"MISSING NUMBER\", x[-1], bin(x[-1]))\n",
    "x = x[:-1]\n",
    "a =  missing_number(x)\n",
    "plot_histogram(a)"
   ]
  },
  {
   "cell_type": "code",
   "execution_count": null,
   "id": "7d0ee9f6",
   "metadata": {},
   "outputs": [],
   "source": []
  }
 ],
 "metadata": {
  "kernelspec": {
   "display_name": "Python (qosf)",
   "language": "python",
   "name": "qosf"
  },
  "language_info": {
   "codemirror_mode": {
    "name": "ipython",
    "version": 3
   },
   "file_extension": ".py",
   "mimetype": "text/x-python",
   "name": "python",
   "nbconvert_exporter": "python",
   "pygments_lexer": "ipython3",
   "version": "3.7.13"
  },
  "latex_envs": {
   "LaTeX_envs_menu_present": true,
   "autoclose": false,
   "autocomplete": true,
   "bibliofile": "biblio.bib",
   "cite_by": "apalike",
   "current_citInitial": 1,
   "eqLabelWithNumbers": true,
   "eqNumInitial": 1,
   "hotkeys": {
    "equation": "Ctrl-E",
    "itemize": "Ctrl-I"
   },
   "labels_anchors": false,
   "latex_user_defs": false,
   "report_style_numbering": false,
   "user_envs_cfg": false
  },
  "toc": {
   "base_numbering": 1,
   "nav_menu": {},
   "number_sections": true,
   "sideBar": true,
   "skip_h1_title": false,
   "title_cell": "Table of Contents",
   "title_sidebar": "Contents",
   "toc_cell": false,
   "toc_position": {},
   "toc_section_display": true,
   "toc_window_display": false
  }
 },
 "nbformat": 4,
 "nbformat_minor": 5
}
